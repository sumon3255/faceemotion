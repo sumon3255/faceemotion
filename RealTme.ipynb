{
 "cells": [
  {
   "cell_type": "markdown",
   "id": "c83c6fb3",
   "metadata": {},
   "source": [
    "# Real time  Emotion Recognition\n"
   ]
  },
  {
   "cell_type": "code",
   "execution_count": 2,
   "id": "64a7ed17",
   "metadata": {
    "scrolled": true
   },
   "outputs": [],
   "source": [
    "import cv2\n",
    "from deepface import DeepFace #eepface is a lightweight face \n",
    "#recognition and facial attribute analysis (age, gender, emotion and race) \n",
    "fascecascade = cv2.CascadeClassifier(cv2.data.haarcascades + \"haarcascade_frontalface_default.xml\")\n",
    "#It is an Object Detection Algorithm used to identify faces in an image or a real time video.\n",
    "\n",
    "cap = cv2.VideoCapture(0) \n",
    "#check if webcamera is open corrrectly\n",
    "if not cap.isOpened():\n",
    "    cap = cv2.VideoCapture(0) \n",
    "\n",
    "if not cap.isOpened():\n",
    "    raise IOError('can not open webcam')\n",
    "    \n",
    "while(True):\n",
    "    ret,frame = cap.read() # read one image from video\n",
    "    result = DeepFace.analyze(frame , actions = ['emotion'],enforce_detection=False)\n",
    "    \n",
    "    # for rectangle\n",
    "    gray = cv2.cvtColor(frame , cv2.COLOR_BGR2GRAY)\n",
    "    faces = fascecascade.detectMultiScale(gray,1.1,4)\n",
    "    \n",
    "    \n",
    "    #draw a rectangle around the face\n",
    "    for(x,y,w,h) in faces:\n",
    "            cv2.rectangle(frame ,(x,y), (x+w,y+h),(0,255,0),2)\n",
    "    \n",
    "    font = cv2.FONT_HERSHEY_SIMPLEX\n",
    "    #using put text method\n",
    "    #for inserting put text on video\n",
    "    cv2.putText(frame,result['dominant_emotion'],(50,50),font,1,(0,0,255),2,cv2.LINE_4) #50,50 are offset\n",
    "    cv2.imshow('My video',frame)\n",
    "    \n",
    "    if cv2.waitKey(2) & 0xFF == ord('q'):\n",
    "        break\n",
    "        \n",
    "cap.release()\n",
    "cv2.destroyAllWindows()"
   ]
  },
  {
   "cell_type": "code",
   "execution_count": null,
   "id": "b88e4bad",
   "metadata": {},
   "outputs": [],
   "source": []
  }
 ],
 "metadata": {
  "kernelspec": {
   "display_name": "Python 3 (ipykernel)",
   "language": "python",
   "name": "python3"
  },
  "language_info": {
   "codemirror_mode": {
    "name": "ipython",
    "version": 3
   },
   "file_extension": ".py",
   "mimetype": "text/x-python",
   "name": "python",
   "nbconvert_exporter": "python",
   "pygments_lexer": "ipython3",
   "version": "3.9.6"
  }
 },
 "nbformat": 4,
 "nbformat_minor": 5
}
